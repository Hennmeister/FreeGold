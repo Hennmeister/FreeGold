{
 "cells": [
  {
   "cell_type": "code",
   "execution_count": 31,
   "metadata": {},
   "outputs": [],
   "source": [
    "import pandas as pd\n",
    "import numpy as np"
   ]
  },
  {
   "cell_type": "code",
   "execution_count": 56,
   "metadata": {},
   "outputs": [],
   "source": [
    "rdata = pd.read_json(\"Complied_data.json\", orient=\"split\")"
   ]
  },
  {
   "cell_type": "code",
   "execution_count": 58,
   "metadata": {},
   "outputs": [],
   "source": [
    "rdata[\"len\"] = rdata[\"Title\"].str.len()\n",
    "rdata[\"upvote\"] = rdata[\"Late Upvotes\"]\n",
    "rdata[\"lupvote\"] = np.log(rdata[\"upvote\"] + 2)\n",
    "data = rdata"
   ]
  },
  {
   "cell_type": "code",
   "execution_count": 59,
   "metadata": {},
   "outputs": [
    {
     "data": {
      "text/html": [
       "<div>\n",
       "<style scoped>\n",
       "    .dataframe tbody tr th:only-of-type {\n",
       "        vertical-align: middle;\n",
       "    }\n",
       "\n",
       "    .dataframe tbody tr th {\n",
       "        vertical-align: top;\n",
       "    }\n",
       "\n",
       "    .dataframe thead th {\n",
       "        text-align: right;\n",
       "    }\n",
       "</style>\n",
       "<table border=\"1\" class=\"dataframe\">\n",
       "  <thead>\n",
       "    <tr style=\"text-align: right;\">\n",
       "      <th></th>\n",
       "      <th>Title</th>\n",
       "      <th>Early Upvotes</th>\n",
       "      <th>Comments</th>\n",
       "      <th>Late Upvotes</th>\n",
       "      <th>Tags</th>\n",
       "      <th>Timestamp</th>\n",
       "      <th>len</th>\n",
       "      <th>upvote</th>\n",
       "      <th>lupvote</th>\n",
       "    </tr>\n",
       "  </thead>\n",
       "  <tbody>\n",
       "    <tr>\n",
       "      <th>0</th>\n",
       "      <td>Alright east coasters, why are you browsing Re...</td>\n",
       "      <td>1</td>\n",
       "      <td>19</td>\n",
       "      <td>7</td>\n",
       "      <td>None</td>\n",
       "      <td>2019-01-01 05:00:00</td>\n",
       "      <td>87</td>\n",
       "      <td>7</td>\n",
       "      <td>2.197225</td>\n",
       "    </tr>\n",
       "    <tr>\n",
       "      <th>1</th>\n",
       "      <td>Fellow Redditors, Why are you on Reddit right ...</td>\n",
       "      <td>1</td>\n",
       "      <td>39</td>\n",
       "      <td>4</td>\n",
       "      <td>None</td>\n",
       "      <td>2019-01-01 05:00:00</td>\n",
       "      <td>84</td>\n",
       "      <td>4</td>\n",
       "      <td>1.791759</td>\n",
       "    </tr>\n",
       "    <tr>\n",
       "      <th>2</th>\n",
       "      <td>How was your experience after dropping frat bu...</td>\n",
       "      <td>1</td>\n",
       "      <td>1</td>\n",
       "      <td>1</td>\n",
       "      <td>None</td>\n",
       "      <td>2019-01-01 05:00:00</td>\n",
       "      <td>79</td>\n",
       "      <td>1</td>\n",
       "      <td>1.098612</td>\n",
       "    </tr>\n",
       "    <tr>\n",
       "      <th>3</th>\n",
       "      <td>My mother always said that what you're doing w...</td>\n",
       "      <td>1</td>\n",
       "      <td>1</td>\n",
       "      <td>1</td>\n",
       "      <td>None</td>\n",
       "      <td>2019-01-01 05:00:00</td>\n",
       "      <td>144</td>\n",
       "      <td>1</td>\n",
       "      <td>1.098612</td>\n",
       "    </tr>\n",
       "    <tr>\n",
       "      <th>4</th>\n",
       "      <td>What's the best thing the reddit community has...</td>\n",
       "      <td>1</td>\n",
       "      <td>4</td>\n",
       "      <td>3</td>\n",
       "      <td>None</td>\n",
       "      <td>2019-01-01 05:00:00</td>\n",
       "      <td>52</td>\n",
       "      <td>3</td>\n",
       "      <td>1.609438</td>\n",
       "    </tr>\n",
       "  </tbody>\n",
       "</table>\n",
       "</div>"
      ],
      "text/plain": [
       "                                               Title  Early Upvotes  Comments  \\\n",
       "0  Alright east coasters, why are you browsing Re...              1        19   \n",
       "1  Fellow Redditors, Why are you on Reddit right ...              1        39   \n",
       "2  How was your experience after dropping frat bu...              1         1   \n",
       "3  My mother always said that what you're doing w...              1         1   \n",
       "4  What's the best thing the reddit community has...              1         4   \n",
       "\n",
       "   Late Upvotes  Tags           Timestamp  len  upvote   lupvote  \n",
       "0             7  None 2019-01-01 05:00:00   87       7  2.197225  \n",
       "1             4  None 2019-01-01 05:00:00   84       4  1.791759  \n",
       "2             1  None 2019-01-01 05:00:00   79       1  1.098612  \n",
       "3             1  None 2019-01-01 05:00:00  144       1  1.098612  \n",
       "4             3  None 2019-01-01 05:00:00   52       3  1.609438  "
      ]
     },
     "execution_count": 59,
     "metadata": {},
     "output_type": "execute_result"
    }
   ],
   "source": [
    "data.head()"
   ]
  },
  {
   "cell_type": "code",
   "execution_count": 73,
   "metadata": {},
   "outputs": [],
   "source": [
    "tdata = rdata.groupby(\"Timestamp\").mean()\n",
    "tdata[\"c\"] = rdata.groupby(\"Timestamp\").count()[\"Title\"]"
   ]
  },
  {
   "cell_type": "code",
   "execution_count": 74,
   "metadata": {
    "scrolled": true
   },
   "outputs": [
    {
     "data": {
      "text/html": [
       "<div>\n",
       "<style scoped>\n",
       "    .dataframe tbody tr th:only-of-type {\n",
       "        vertical-align: middle;\n",
       "    }\n",
       "\n",
       "    .dataframe tbody tr th {\n",
       "        vertical-align: top;\n",
       "    }\n",
       "\n",
       "    .dataframe thead th {\n",
       "        text-align: right;\n",
       "    }\n",
       "</style>\n",
       "<table border=\"1\" class=\"dataframe\">\n",
       "  <thead>\n",
       "    <tr style=\"text-align: right;\">\n",
       "      <th></th>\n",
       "      <th>Early Upvotes</th>\n",
       "      <th>Comments</th>\n",
       "      <th>Late Upvotes</th>\n",
       "      <th>len</th>\n",
       "      <th>upvote</th>\n",
       "      <th>lupvote</th>\n",
       "      <th>c</th>\n",
       "    </tr>\n",
       "    <tr>\n",
       "      <th>Timestamp</th>\n",
       "      <th></th>\n",
       "      <th></th>\n",
       "      <th></th>\n",
       "      <th></th>\n",
       "      <th></th>\n",
       "      <th></th>\n",
       "      <th></th>\n",
       "    </tr>\n",
       "  </thead>\n",
       "  <tbody>\n",
       "    <tr>\n",
       "      <th>2019-01-01 05:00:00</th>\n",
       "      <td>1.000</td>\n",
       "      <td>14.793</td>\n",
       "      <td>11.608</td>\n",
       "      <td>70.905</td>\n",
       "      <td>11.608</td>\n",
       "      <td>1.279988</td>\n",
       "      <td>1000</td>\n",
       "    </tr>\n",
       "    <tr>\n",
       "      <th>2019-01-01 09:00:00</th>\n",
       "      <td>1.000</td>\n",
       "      <td>39.440</td>\n",
       "      <td>76.240</td>\n",
       "      <td>71.449</td>\n",
       "      <td>76.240</td>\n",
       "      <td>1.367478</td>\n",
       "      <td>1000</td>\n",
       "    </tr>\n",
       "    <tr>\n",
       "      <th>2019-01-01 13:00:00</th>\n",
       "      <td>1.000</td>\n",
       "      <td>20.543</td>\n",
       "      <td>15.057</td>\n",
       "      <td>74.967</td>\n",
       "      <td>15.057</td>\n",
       "      <td>1.364746</td>\n",
       "      <td>1000</td>\n",
       "    </tr>\n",
       "    <tr>\n",
       "      <th>2019-01-01 17:00:00</th>\n",
       "      <td>1.000</td>\n",
       "      <td>10.604</td>\n",
       "      <td>5.819</td>\n",
       "      <td>76.245</td>\n",
       "      <td>5.819</td>\n",
       "      <td>1.307206</td>\n",
       "      <td>1000</td>\n",
       "    </tr>\n",
       "    <tr>\n",
       "      <th>2019-01-01 21:00:00</th>\n",
       "      <td>1.000</td>\n",
       "      <td>17.298</td>\n",
       "      <td>225.868</td>\n",
       "      <td>75.210</td>\n",
       "      <td>225.868</td>\n",
       "      <td>1.365645</td>\n",
       "      <td>1000</td>\n",
       "    </tr>\n",
       "    <tr>\n",
       "      <th>...</th>\n",
       "      <td>...</td>\n",
       "      <td>...</td>\n",
       "      <td>...</td>\n",
       "      <td>...</td>\n",
       "      <td>...</td>\n",
       "      <td>...</td>\n",
       "      <td>...</td>\n",
       "    </tr>\n",
       "    <tr>\n",
       "      <th>2019-12-30 05:00:00</th>\n",
       "      <td>1.001</td>\n",
       "      <td>14.848</td>\n",
       "      <td>28.771</td>\n",
       "      <td>74.616</td>\n",
       "      <td>28.771</td>\n",
       "      <td>1.370907</td>\n",
       "      <td>1000</td>\n",
       "    </tr>\n",
       "    <tr>\n",
       "      <th>2019-12-30 09:00:00</th>\n",
       "      <td>1.000</td>\n",
       "      <td>8.860</td>\n",
       "      <td>2.937</td>\n",
       "      <td>76.056</td>\n",
       "      <td>2.937</td>\n",
       "      <td>1.382140</td>\n",
       "      <td>1000</td>\n",
       "    </tr>\n",
       "    <tr>\n",
       "      <th>2019-12-30 13:00:00</th>\n",
       "      <td>1.000</td>\n",
       "      <td>8.167</td>\n",
       "      <td>3.021</td>\n",
       "      <td>78.019</td>\n",
       "      <td>3.021</td>\n",
       "      <td>1.352702</td>\n",
       "      <td>1000</td>\n",
       "    </tr>\n",
       "    <tr>\n",
       "      <th>2019-12-30 17:00:00</th>\n",
       "      <td>1.000</td>\n",
       "      <td>12.400</td>\n",
       "      <td>12.098</td>\n",
       "      <td>78.698</td>\n",
       "      <td>12.098</td>\n",
       "      <td>1.295475</td>\n",
       "      <td>1000</td>\n",
       "    </tr>\n",
       "    <tr>\n",
       "      <th>2019-12-30 21:00:00</th>\n",
       "      <td>1.001</td>\n",
       "      <td>10.781</td>\n",
       "      <td>8.749</td>\n",
       "      <td>77.402</td>\n",
       "      <td>8.749</td>\n",
       "      <td>1.346863</td>\n",
       "      <td>1000</td>\n",
       "    </tr>\n",
       "  </tbody>\n",
       "</table>\n",
       "<p>944 rows × 7 columns</p>\n",
       "</div>"
      ],
      "text/plain": [
       "                     Early Upvotes  Comments  Late Upvotes     len   upvote  \\\n",
       "Timestamp                                                                     \n",
       "2019-01-01 05:00:00          1.000    14.793        11.608  70.905   11.608   \n",
       "2019-01-01 09:00:00          1.000    39.440        76.240  71.449   76.240   \n",
       "2019-01-01 13:00:00          1.000    20.543        15.057  74.967   15.057   \n",
       "2019-01-01 17:00:00          1.000    10.604         5.819  76.245    5.819   \n",
       "2019-01-01 21:00:00          1.000    17.298       225.868  75.210  225.868   \n",
       "...                            ...       ...           ...     ...      ...   \n",
       "2019-12-30 05:00:00          1.001    14.848        28.771  74.616   28.771   \n",
       "2019-12-30 09:00:00          1.000     8.860         2.937  76.056    2.937   \n",
       "2019-12-30 13:00:00          1.000     8.167         3.021  78.019    3.021   \n",
       "2019-12-30 17:00:00          1.000    12.400        12.098  78.698   12.098   \n",
       "2019-12-30 21:00:00          1.001    10.781         8.749  77.402    8.749   \n",
       "\n",
       "                      lupvote     c  \n",
       "Timestamp                            \n",
       "2019-01-01 05:00:00  1.279988  1000  \n",
       "2019-01-01 09:00:00  1.367478  1000  \n",
       "2019-01-01 13:00:00  1.364746  1000  \n",
       "2019-01-01 17:00:00  1.307206  1000  \n",
       "2019-01-01 21:00:00  1.365645  1000  \n",
       "...                       ...   ...  \n",
       "2019-12-30 05:00:00  1.370907  1000  \n",
       "2019-12-30 09:00:00  1.382140  1000  \n",
       "2019-12-30 13:00:00  1.352702  1000  \n",
       "2019-12-30 17:00:00  1.295475  1000  \n",
       "2019-12-30 21:00:00  1.346863  1000  \n",
       "\n",
       "[944 rows x 7 columns]"
      ]
     },
     "execution_count": 74,
     "metadata": {},
     "output_type": "execute_result"
    }
   ],
   "source": [
    "tdata"
   ]
  },
  {
   "cell_type": "code",
   "execution_count": 87,
   "metadata": {},
   "outputs": [
    {
     "data": {
      "text/plain": [
       "<matplotlib.axes._subplots.AxesSubplot at 0x2031e9495f8>"
      ]
     },
     "execution_count": 87,
     "metadata": {},
     "output_type": "execute_result"
    },
    {
     "data": {
      "image/png": "[encoded data removed]",
      "text/plain": [
       "<Figure size 432x288 with 1 Axes>"
      ]
     },
     "metadata": {
      "needs_background": "light"
     },
     "output_type": "display_data"
    }
   ],
   "source": [
    "tdata.sort_values(\"upvote\")[\"upvote\"].plot.hist()"
   ]
  },
  {
   "cell_type": "code",
   "execution_count": 18,
   "metadata": {},
   "outputs": [
    {
     "data": {
      "text/plain": [
       "<matplotlib.axes._subplots.AxesSubplot at 0x203463beef0>"
      ]
     },
     "execution_count": 18,
     "metadata": {},
     "output_type": "execute_result"
    },
    {
     "data": {
      "image/png": "[encoded data removed]",
      "text/plain": [
       "<Figure size 432x288 with 1 Axes>"
      ]
     },
     "metadata": {
      "needs_background": "light"
     },
     "output_type": "display_data"
    }
   ],
   "source": [
    "data[\"upvote\"].plot.hist(log=True)"
   ]
  },
  {
   "cell_type": "code",
   "execution_count": 19,
   "metadata": {},
   "outputs": [
    {
     "data": {
      "text/plain": [
       "<matplotlib.axes._subplots.AxesSubplot at 0x2033f2677b8>"
      ]
     },
     "execution_count": 19,
     "metadata": {},
     "output_type": "execute_result"
    },
    {
     "data": {
      "image/png": "[encoded data removed]",
      "text/plain": [
       "<Figure size 432x288 with 1 Axes>"
      ]
     },
     "metadata": {
      "needs_background": "light"
     },
     "output_type": "display_data"
    }
   ],
   "source": [
    "data[\"upvote\"].plot.hist(range=(0, 1000), log=True)"
   ]
  },
  {
   "cell_type": "code",
   "execution_count": 24,
   "metadata": {},
   "outputs": [
    {
     "data": {
      "text/plain": [
       "<matplotlib.axes._subplots.AxesSubplot at 0x20346c97048>"
      ]
     },
     "execution_count": 24,
     "metadata": {},
     "output_type": "execute_result"
    },
    {
     "data": {
      "image/png": "[encoded data removed]",
      "text/plain": [
       "<Figure size 432x288 with 1 Axes>"
      ]
     },
     "metadata": {
      "needs_background": "light"
     },
     "output_type": "display_data"
    }
   ],
   "source": [
    "data[\"len\"].plot.hist()"
   ]
  },
  {
   "cell_type": "code",
   "execution_count": 51,
   "metadata": {},
   "outputs": [
    {
     "name": "stderr",
     "output_type": "stream",
     "text": [
      "C:\\Users\\Jasper\\Anaconda3\\lib\\site-packages\\ipykernel_launcher.py:1: SettingWithCopyWarning: \n",
      "A value is trying to be set on a copy of a slice from a DataFrame.\n",
      "Try using .loc[row_indexer,col_indexer] = value instead\n",
      "\n",
      "See the caveats in the documentation: http://pandas.pydata.org/pandas-docs/stable/user_guide/indexing.html#returning-a-view-versus-a-copy\n",
      "  \"\"\"Entry point for launching an IPython kernel.\n"
     ]
    }
   ],
   "source": []
  },
  {
   "cell_type": "code",
   "execution_count": 52,
   "metadata": {},
   "outputs": [
    {
     "data": {
      "text/plain": [
       "<matplotlib.axes._subplots.AxesSubplot at 0x2033e7fa588>"
      ]
     },
     "execution_count": 52,
     "metadata": {},
     "output_type": "execute_result"
    },
    {
     "data": {
      "image/png": "[encoded data removed]",
      "text/plain": [
       "<Figure size 432x288 with 1 Axes>"
      ]
     },
     "metadata": {
      "needs_background": "light"
     },
     "output_type": "display_data"
    }
   ],
   "source": [
    "data.plot.scatter(x=\"len\", y=\"lupvote\")"
   ]
  },
  {
   "cell_type": "code",
   "execution_count": 53,
   "metadata": {},
   "outputs": [],
   "source": [
    "gdata = data[data[\"upvote\"] > 100]"
   ]
  },
  {
   "cell_type": "code",
   "execution_count": 41,
   "metadata": {},
   "outputs": [
    {
     "data": {
      "text/html": [
       "<div>\n",
       "<style scoped>\n",
       "    .dataframe tbody tr th:only-of-type {\n",
       "        vertical-align: middle;\n",
       "    }\n",
       "\n",
       "    .dataframe tbody tr th {\n",
       "        vertical-align: top;\n",
       "    }\n",
       "\n",
       "    .dataframe thead th {\n",
       "        text-align: right;\n",
       "    }\n",
       "</style>\n",
       "<table border=\"1\" class=\"dataframe\">\n",
       "  <thead>\n",
       "    <tr style=\"text-align: right;\">\n",
       "      <th></th>\n",
       "      <th>Title</th>\n",
       "      <th>Early Upvotes</th>\n",
       "      <th>Comments</th>\n",
       "      <th>Late Upvotes</th>\n",
       "      <th>Tags</th>\n",
       "      <th>Timestamp</th>\n",
       "      <th>len</th>\n",
       "      <th>upvote</th>\n",
       "      <th>lupvote</th>\n",
       "    </tr>\n",
       "  </thead>\n",
       "  <tbody>\n",
       "    <tr>\n",
       "      <th>319</th>\n",
       "      <td>What minor thing that happened to you as a chi...</td>\n",
       "      <td>1</td>\n",
       "      <td>4312</td>\n",
       "      <td>7295</td>\n",
       "      <td>None</td>\n",
       "      <td>2019-01-01 05:00:00</td>\n",
       "      <td>85</td>\n",
       "      <td>7295</td>\n",
       "      <td>8.895082</td>\n",
       "    </tr>\n",
       "    <tr>\n",
       "      <th>341</th>\n",
       "      <td>If you became the opposite sex, what do you th...</td>\n",
       "      <td>1</td>\n",
       "      <td>1026</td>\n",
       "      <td>602</td>\n",
       "      <td>None</td>\n",
       "      <td>2019-01-01 05:00:00</td>\n",
       "      <td>86</td>\n",
       "      <td>602</td>\n",
       "      <td>6.401917</td>\n",
       "    </tr>\n",
       "    <tr>\n",
       "      <th>470</th>\n",
       "      <td>What do you think is the most beautiful thing ...</td>\n",
       "      <td>1</td>\n",
       "      <td>793</td>\n",
       "      <td>796</td>\n",
       "      <td>None</td>\n",
       "      <td>2019-01-01 05:00:00</td>\n",
       "      <td>60</td>\n",
       "      <td>796</td>\n",
       "      <td>6.680855</td>\n",
       "    </tr>\n",
       "    <tr>\n",
       "      <th>783</th>\n",
       "      <td>people still shooting guns and fireworks at 1 ...</td>\n",
       "      <td>1</td>\n",
       "      <td>181</td>\n",
       "      <td>734</td>\n",
       "      <td>None</td>\n",
       "      <td>2019-01-01 05:00:00</td>\n",
       "      <td>86</td>\n",
       "      <td>734</td>\n",
       "      <td>6.599870</td>\n",
       "    </tr>\n",
       "    <tr>\n",
       "      <th>11</th>\n",
       "      <td>Do you scrub your butt in the shower?</td>\n",
       "      <td>1</td>\n",
       "      <td>452</td>\n",
       "      <td>345</td>\n",
       "      <td>None</td>\n",
       "      <td>2019-01-01 09:00:00</td>\n",
       "      <td>37</td>\n",
       "      <td>345</td>\n",
       "      <td>5.846439</td>\n",
       "    </tr>\n",
       "  </tbody>\n",
       "</table>\n",
       "</div>"
      ],
      "text/plain": [
       "                                                 Title  Early Upvotes  \\\n",
       "319  What minor thing that happened to you as a chi...              1   \n",
       "341  If you became the opposite sex, what do you th...              1   \n",
       "470  What do you think is the most beautiful thing ...              1   \n",
       "783  people still shooting guns and fireworks at 1 ...              1   \n",
       "11               Do you scrub your butt in the shower?              1   \n",
       "\n",
       "     Comments  Late Upvotes  Tags           Timestamp  len  upvote   lupvote  \n",
       "319      4312          7295  None 2019-01-01 05:00:00   85    7295  8.895082  \n",
       "341      1026           602  None 2019-01-01 05:00:00   86     602  6.401917  \n",
       "470       793           796  None 2019-01-01 05:00:00   60     796  6.680855  \n",
       "783       181           734  None 2019-01-01 05:00:00   86     734  6.599870  \n",
       "11        452           345  None 2019-01-01 09:00:00   37     345  5.846439  "
      ]
     },
     "execution_count": 41,
     "metadata": {},
     "output_type": "execute_result"
    }
   ],
   "source": [
    "gdata.head()"
   ]
  },
  {
   "cell_type": "code",
   "execution_count": 54,
   "metadata": {},
   "outputs": [
    {
     "data": {
      "text/plain": [
       "<matplotlib.axes._subplots.AxesSubplot at 0x203617e02e8>"
      ]
     },
     "execution_count": 54,
     "metadata": {},
     "output_type": "execute_result"
    },
    {
     "data": {
      "image/png": "[encoded data removed]",
      "text/plain": [
       "<Figure size 432x288 with 2 Axes>"
      ]
     },
     "metadata": {
      "needs_background": "light"
     },
     "output_type": "display_data"
    }
   ],
   "source": [
    "gdata.plot.hexbin(x=\"len\",y=\"lupvote\")"
   ]
  },
  {
   "cell_type": "code",
   "execution_count": 43,
   "metadata": {},
   "outputs": [],
   "source": [
    "from pandas.plotting import bootstrap_plot"
   ]
  },
  {
   "cell_type": "code",
   "execution_count": 47,
   "metadata": {},
   "outputs": [
    {
     "data": {
      "image/png": "[encoded data removed]",
      "text/plain": [
       "<Figure size 432x288 with 6 Axes>"
      ]
     },
     "execution_count": 47,
     "metadata": {},
     "output_type": "execute_result"
    },
    {
     "data": {
      "image/png": "[encoded data removed]",
      "text/plain": [
       "<Figure size 432x288 with 6 Axes>"
      ]
     },
     "metadata": {
      "needs_background": "light"
     },
     "output_type": "display_data"
    }
   ],
   "source": [
    "bootstrap_plot(data[\"len\"])"
   ]
  },
  {
   "cell_type": "code",
   "execution_count": 50,
   "metadata": {},
   "outputs": [
    {
     "data": {
      "text/html": [
       "<div>\n",
       "<style scoped>\n",
       "    .dataframe tbody tr th:only-of-type {\n",
       "        vertical-align: middle;\n",
       "    }\n",
       "\n",
       "    .dataframe tbody tr th {\n",
       "        vertical-align: top;\n",
       "    }\n",
       "\n",
       "    .dataframe thead th {\n",
       "        text-align: right;\n",
       "    }\n",
       "</style>\n",
       "<table border=\"1\" class=\"dataframe\">\n",
       "  <thead>\n",
       "    <tr style=\"text-align: right;\">\n",
       "      <th></th>\n",
       "      <th>Comments</th>\n",
       "      <th>len</th>\n",
       "      <th>upvote</th>\n",
       "      <th>lupvote</th>\n",
       "    </tr>\n",
       "  </thead>\n",
       "  <tbody>\n",
       "    <tr>\n",
       "      <th>count</th>\n",
       "      <td>943995.000000</td>\n",
       "      <td>943995.000000</td>\n",
       "      <td>943995.000000</td>\n",
       "      <td>943995.000000</td>\n",
       "    </tr>\n",
       "    <tr>\n",
       "      <th>mean</th>\n",
       "      <td>16.764493</td>\n",
       "      <td>76.230366</td>\n",
       "      <td>23.863328</td>\n",
       "      <td>1.026492</td>\n",
       "    </tr>\n",
       "    <tr>\n",
       "      <th>std</th>\n",
       "      <td>339.575263</td>\n",
       "      <td>42.980885</td>\n",
       "      <td>978.852830</td>\n",
       "      <td>0.696839</td>\n",
       "    </tr>\n",
       "    <tr>\n",
       "      <th>min</th>\n",
       "      <td>0.000000</td>\n",
       "      <td>1.000000</td>\n",
       "      <td>0.000000</td>\n",
       "      <td>0.000000</td>\n",
       "    </tr>\n",
       "    <tr>\n",
       "      <th>25%</th>\n",
       "      <td>1.000000</td>\n",
       "      <td>48.000000</td>\n",
       "      <td>1.000000</td>\n",
       "      <td>0.693147</td>\n",
       "    </tr>\n",
       "    <tr>\n",
       "      <th>50%</th>\n",
       "      <td>4.000000</td>\n",
       "      <td>67.000000</td>\n",
       "      <td>1.000000</td>\n",
       "      <td>0.693147</td>\n",
       "    </tr>\n",
       "    <tr>\n",
       "      <th>75%</th>\n",
       "      <td>10.000000</td>\n",
       "      <td>93.000000</td>\n",
       "      <td>3.000000</td>\n",
       "      <td>1.386294</td>\n",
       "    </tr>\n",
       "    <tr>\n",
       "      <th>max</th>\n",
       "      <td>76091.000000</td>\n",
       "      <td>409.000000</td>\n",
       "      <td>221855.000000</td>\n",
       "      <td>12.309784</td>\n",
       "    </tr>\n",
       "  </tbody>\n",
       "</table>\n",
       "</div>"
      ],
      "text/plain": [
       "            Comments            len         upvote        lupvote\n",
       "count  943995.000000  943995.000000  943995.000000  943995.000000\n",
       "mean       16.764493      76.230366      23.863328       1.026492\n",
       "std       339.575263      42.980885     978.852830       0.696839\n",
       "min         0.000000       1.000000       0.000000       0.000000\n",
       "25%         1.000000      48.000000       1.000000       0.693147\n",
       "50%         4.000000      67.000000       1.000000       0.693147\n",
       "75%        10.000000      93.000000       3.000000       1.386294\n",
       "max     76091.000000     409.000000  221855.000000      12.309784"
      ]
     },
     "execution_count": 50,
     "metadata": {},
     "output_type": "execute_result"
    }
   ],
   "source": [
    "data.describe()"
   ]
  },
  {
   "cell_type": "code",
   "execution_count": 49,
   "metadata": {},
   "outputs": [],
   "source": [
    "data = data[[\"Comments\", \"len\", \"upvote\", \"lupvote\"]]"
   ]
  },
  {
   "cell_type": "code",
   "execution_count": 76,
   "metadata": {},
   "outputs": [
    {
     "data": {
      "text/html": [
       "<div>\n",
       "<style scoped>\n",
       "    .dataframe tbody tr th:only-of-type {\n",
       "        vertical-align: middle;\n",
       "    }\n",
       "\n",
       "    .dataframe tbody tr th {\n",
       "        vertical-align: top;\n",
       "    }\n",
       "\n",
       "    .dataframe thead th {\n",
       "        text-align: right;\n",
       "    }\n",
       "</style>\n",
       "<table border=\"1\" class=\"dataframe\">\n",
       "  <thead>\n",
       "    <tr style=\"text-align: right;\">\n",
       "      <th></th>\n",
       "      <th>Title</th>\n",
       "      <th>Early Upvotes</th>\n",
       "      <th>Comments</th>\n",
       "      <th>Late Upvotes</th>\n",
       "      <th>Tags</th>\n",
       "      <th>Timestamp</th>\n",
       "      <th>len</th>\n",
       "      <th>upvote</th>\n",
       "      <th>lupvote</th>\n",
       "    </tr>\n",
       "  </thead>\n",
       "  <tbody>\n",
       "    <tr>\n",
       "      <th>0</th>\n",
       "      <td>Alright east coasters, why are you browsing Re...</td>\n",
       "      <td>1</td>\n",
       "      <td>19</td>\n",
       "      <td>7</td>\n",
       "      <td>None</td>\n",
       "      <td>2019-01-01 05:00:00</td>\n",
       "      <td>87</td>\n",
       "      <td>7</td>\n",
       "      <td>2.197225</td>\n",
       "    </tr>\n",
       "    <tr>\n",
       "      <th>1</th>\n",
       "      <td>Fellow Redditors, Why are you on Reddit right ...</td>\n",
       "      <td>1</td>\n",
       "      <td>39</td>\n",
       "      <td>4</td>\n",
       "      <td>None</td>\n",
       "      <td>2019-01-01 05:00:00</td>\n",
       "      <td>84</td>\n",
       "      <td>4</td>\n",
       "      <td>1.791759</td>\n",
       "    </tr>\n",
       "    <tr>\n",
       "      <th>2</th>\n",
       "      <td>How was your experience after dropping frat bu...</td>\n",
       "      <td>1</td>\n",
       "      <td>1</td>\n",
       "      <td>1</td>\n",
       "      <td>None</td>\n",
       "      <td>2019-01-01 05:00:00</td>\n",
       "      <td>79</td>\n",
       "      <td>1</td>\n",
       "      <td>1.098612</td>\n",
       "    </tr>\n",
       "    <tr>\n",
       "      <th>3</th>\n",
       "      <td>My mother always said that what you're doing w...</td>\n",
       "      <td>1</td>\n",
       "      <td>1</td>\n",
       "      <td>1</td>\n",
       "      <td>None</td>\n",
       "      <td>2019-01-01 05:00:00</td>\n",
       "      <td>144</td>\n",
       "      <td>1</td>\n",
       "      <td>1.098612</td>\n",
       "    </tr>\n",
       "    <tr>\n",
       "      <th>4</th>\n",
       "      <td>What's the best thing the reddit community has...</td>\n",
       "      <td>1</td>\n",
       "      <td>4</td>\n",
       "      <td>3</td>\n",
       "      <td>None</td>\n",
       "      <td>2019-01-01 05:00:00</td>\n",
       "      <td>52</td>\n",
       "      <td>3</td>\n",
       "      <td>1.609438</td>\n",
       "    </tr>\n",
       "    <tr>\n",
       "      <th>...</th>\n",
       "      <td>...</td>\n",
       "      <td>...</td>\n",
       "      <td>...</td>\n",
       "      <td>...</td>\n",
       "      <td>...</td>\n",
       "      <td>...</td>\n",
       "      <td>...</td>\n",
       "      <td>...</td>\n",
       "      <td>...</td>\n",
       "    </tr>\n",
       "    <tr>\n",
       "      <th>995</th>\n",
       "      <td>Serious Response</td>\n",
       "      <td>1</td>\n",
       "      <td>1</td>\n",
       "      <td>1</td>\n",
       "      <td>None</td>\n",
       "      <td>2019-12-30 21:00:00</td>\n",
       "      <td>16</td>\n",
       "      <td>1</td>\n",
       "      <td>1.098612</td>\n",
       "    </tr>\n",
       "    <tr>\n",
       "      <th>996</th>\n",
       "      <td>I did the right thing?</td>\n",
       "      <td>1</td>\n",
       "      <td>1</td>\n",
       "      <td>1</td>\n",
       "      <td>None</td>\n",
       "      <td>2019-12-30 21:00:00</td>\n",
       "      <td>22</td>\n",
       "      <td>1</td>\n",
       "      <td>1.098612</td>\n",
       "    </tr>\n",
       "    <tr>\n",
       "      <th>997</th>\n",
       "      <td>What’s some of the extreme measures you have g...</td>\n",
       "      <td>1</td>\n",
       "      <td>1</td>\n",
       "      <td>1</td>\n",
       "      <td>None</td>\n",
       "      <td>2019-12-30 21:00:00</td>\n",
       "      <td>68</td>\n",
       "      <td>1</td>\n",
       "      <td>1.098612</td>\n",
       "    </tr>\n",
       "    <tr>\n",
       "      <th>998</th>\n",
       "      <td>What's an ugly celebrity you would sleep with?</td>\n",
       "      <td>1</td>\n",
       "      <td>4</td>\n",
       "      <td>0</td>\n",
       "      <td>None</td>\n",
       "      <td>2019-12-30 21:00:00</td>\n",
       "      <td>46</td>\n",
       "      <td>0</td>\n",
       "      <td>0.693147</td>\n",
       "    </tr>\n",
       "    <tr>\n",
       "      <th>999</th>\n",
       "      <td>Would you rather keep a pet tortoise or snake ...</td>\n",
       "      <td>1</td>\n",
       "      <td>13</td>\n",
       "      <td>2</td>\n",
       "      <td>None</td>\n",
       "      <td>2019-12-30 21:00:00</td>\n",
       "      <td>54</td>\n",
       "      <td>2</td>\n",
       "      <td>1.386294</td>\n",
       "    </tr>\n",
       "  </tbody>\n",
       "</table>\n",
       "<p>943995 rows × 9 columns</p>\n",
       "</div>"
      ],
      "text/plain": [
       "                                                 Title  Early Upvotes  \\\n",
       "0    Alright east coasters, why are you browsing Re...              1   \n",
       "1    Fellow Redditors, Why are you on Reddit right ...              1   \n",
       "2    How was your experience after dropping frat bu...              1   \n",
       "3    My mother always said that what you're doing w...              1   \n",
       "4    What's the best thing the reddit community has...              1   \n",
       "..                                                 ...            ...   \n",
       "995                                   Serious Response              1   \n",
       "996                             I did the right thing?              1   \n",
       "997  What’s some of the extreme measures you have g...              1   \n",
       "998     What's an ugly celebrity you would sleep with?              1   \n",
       "999  Would you rather keep a pet tortoise or snake ...              1   \n",
       "\n",
       "     Comments  Late Upvotes  Tags           Timestamp  len  upvote   lupvote  \n",
       "0          19             7  None 2019-01-01 05:00:00   87       7  2.197225  \n",
       "1          39             4  None 2019-01-01 05:00:00   84       4  1.791759  \n",
       "2           1             1  None 2019-01-01 05:00:00   79       1  1.098612  \n",
       "3           1             1  None 2019-01-01 05:00:00  144       1  1.098612  \n",
       "4           4             3  None 2019-01-01 05:00:00   52       3  1.609438  \n",
       "..        ...           ...   ...                 ...  ...     ...       ...  \n",
       "995         1             1  None 2019-12-30 21:00:00   16       1  1.098612  \n",
       "996         1             1  None 2019-12-30 21:00:00   22       1  1.098612  \n",
       "997         1             1  None 2019-12-30 21:00:00   68       1  1.098612  \n",
       "998         4             0  None 2019-12-30 21:00:00   46       0  0.693147  \n",
       "999        13             2  None 2019-12-30 21:00:00   54       2  1.386294  \n",
       "\n",
       "[943995 rows x 9 columns]"
      ]
     },
     "execution_count": 76,
     "metadata": {},
     "output_type": "execute_result"
    }
   ],
   "source": [
    "data"
   ]
  },
  {
   "cell_type": "code",
   "execution_count": 84,
   "metadata": {},
   "outputs": [
    {
     "data": {
      "text/plain": [
       "<matplotlib.axes._subplots.AxesSubplot at 0x2032eea0da0>"
      ]
     },
     "execution_count": 84,
     "metadata": {},
     "output_type": "execute_result"
    },
    {
     "data": {
      "image/png": "[encoded data removed]",
      "text/plain": [
       "<Figure size 432x288 with 1 Axes>"
      ]
     },
     "metadata": {
      "needs_background": "light"
     },
     "output_type": "display_data"
    }
   ],
   "source": [
    "data.plot.scatter(x=\"Comments\", y=\"upvote\", logx=\"sym\", logy=\"sym\")"
   ]
  },
  {
   "cell_type": "code",
   "execution_count": null,
   "metadata": {},
   "outputs": [],
   "source": []
  }
 ],
 "metadata": {
  "kernelspec": {
   "display_name": "Python 3",
   "language": "python",
   "name": "python3"
  },
  "language_info": {
   "codemirror_mode": {
    "name": "ipython",
    "version": 3
   },
   "file_extension": ".py",
   "mimetype": "text/x-python",
   "name": "python",
   "nbconvert_exporter": "python",
   "pygments_lexer": "ipython3",
   "version": "3.6.7"
  }
 },
 "nbformat": 4,
 "nbformat_minor": 2
}
